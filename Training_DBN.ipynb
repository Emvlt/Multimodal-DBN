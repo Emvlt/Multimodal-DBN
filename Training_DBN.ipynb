{
 "cells": [
  {
   "cell_type": "markdown",
   "metadata": {},
   "source": [
    "## Training the Encoder unsupervisedly\n",
    "This is the jupyter notebook to train the encoding part of the network, in an unsupervised manner."
   ]
  },
  {
   "cell_type": "code",
   "execution_count": 1,
   "metadata": {},
   "outputs": [
    {
     "name": "stderr",
     "output_type": "stream",
     "text": [
      "/home/emmv1d18/anaconda3/envs/py36/lib/python3.6/site-packages/tensorboard/compat/tensorflow_stub/dtypes.py:541: FutureWarning: Passing (type, 1) or '1type' as a synonym of type is deprecated; in a future version of numpy, it will be understood as (type, (1,)) / '(1,)type'.\n",
      "  _np_qint8 = np.dtype([(\"qint8\", np.int8, 1)])\n",
      "/home/emmv1d18/anaconda3/envs/py36/lib/python3.6/site-packages/tensorboard/compat/tensorflow_stub/dtypes.py:542: FutureWarning: Passing (type, 1) or '1type' as a synonym of type is deprecated; in a future version of numpy, it will be understood as (type, (1,)) / '(1,)type'.\n",
      "  _np_quint8 = np.dtype([(\"quint8\", np.uint8, 1)])\n",
      "/home/emmv1d18/anaconda3/envs/py36/lib/python3.6/site-packages/tensorboard/compat/tensorflow_stub/dtypes.py:543: FutureWarning: Passing (type, 1) or '1type' as a synonym of type is deprecated; in a future version of numpy, it will be understood as (type, (1,)) / '(1,)type'.\n",
      "  _np_qint16 = np.dtype([(\"qint16\", np.int16, 1)])\n",
      "/home/emmv1d18/anaconda3/envs/py36/lib/python3.6/site-packages/tensorboard/compat/tensorflow_stub/dtypes.py:544: FutureWarning: Passing (type, 1) or '1type' as a synonym of type is deprecated; in a future version of numpy, it will be understood as (type, (1,)) / '(1,)type'.\n",
      "  _np_quint16 = np.dtype([(\"quint16\", np.uint16, 1)])\n",
      "/home/emmv1d18/anaconda3/envs/py36/lib/python3.6/site-packages/tensorboard/compat/tensorflow_stub/dtypes.py:545: FutureWarning: Passing (type, 1) or '1type' as a synonym of type is deprecated; in a future version of numpy, it will be understood as (type, (1,)) / '(1,)type'.\n",
      "  _np_qint32 = np.dtype([(\"qint32\", np.int32, 1)])\n",
      "/home/emmv1d18/anaconda3/envs/py36/lib/python3.6/site-packages/tensorboard/compat/tensorflow_stub/dtypes.py:550: FutureWarning: Passing (type, 1) or '1type' as a synonym of type is deprecated; in a future version of numpy, it will be understood as (type, (1,)) / '(1,)type'.\n",
      "  np_resource = np.dtype([(\"resource\", np.ubyte, 1)])\n"
     ]
    }
   ],
   "source": [
    "import multimodal_deep_belief_network as DBN\n",
    "import torch\n",
    "import torchvision\n",
    "import custom_mnist_dataset\n",
    "from torchvision import transforms\n",
    "import matplotlib.pyplot as plt\n",
    "import os\n",
    "os.environ['CUDA_LAUNCH_BLOCKING'] = \"1\""
   ]
  },
  {
   "cell_type": "markdown",
   "metadata": {},
   "source": [
    "## Loading the training data and displaying it\n",
    "We use a custom mnist dataset function to integrate the one-hot encoding to it, along with functions to do the supervised fine-tuning."
   ]
  },
  {
   "cell_type": "code",
   "execution_count": 30,
   "metadata": {},
   "outputs": [],
   "source": [
    "batch_size = 32\n",
    "mnist_data = custom_mnist_dataset.MNIST('/home/emmv1d18/Work/Databases', \n",
    "                                        train=True,\n",
    "                                        transform=transforms.Compose([\n",
    "                                            transforms.ToTensor(),\n",
    "                                            transforms.Normalize(mean=[0.1307], std=[0.3081])]),\n",
    "                                        target_transform=custom_mnist_dataset.to_one_hot(), \n",
    "                                        download=True)\n",
    "data_loader = torch.utils.data.DataLoader(mnist_data,\n",
    "                                          batch_size=batch_size,\n",
    "                                          shuffle=True,\n",
    "                                          num_workers=1)"
   ]
  },
  {
   "cell_type": "code",
   "execution_count": 35,
   "metadata": {},
   "outputs": [
    {
     "data": {
      "image/png": "[encoded data removed]",
      "text/plain": [
       "<Figure size 576x576 with 4 Axes>"
      ]
     },
     "metadata": {
      "needs_background": "light"
     },
     "output_type": "display_data"
    },
    {
     "data": {
      "image/png": "[encoded data removed]",
      "text/plain": [
       "<Figure size 576x576 with 4 Axes>"
      ]
     },
     "metadata": {
      "needs_background": "light"
     },
     "output_type": "display_data"
    }
   ],
   "source": [
    "# First we load the training data.\n",
    "data = next(iter(data_loader))\n",
    "tgt = data['target']\n",
    "img = data['image']\n",
    "# Now we display the first four training tuples.\n",
    "columns = 4\n",
    "rows = 1\n",
    "fig=plt.figure(figsize=(8, 8))\n",
    "for i in range(1, (columns*rows)+1 ):\n",
    "    fig.add_subplot(rows, columns, i)\n",
    "    plt.imshow(img[i][0])\n",
    "plt.show()\n",
    "fig=plt.figure(figsize=(8, 8))\n",
    "for i in range(1, (columns*rows)+1 ):\n",
    "    fig.add_subplot(rows, columns, i)\n",
    "    plt.imshow(tgt[i][0])\n",
    "plt.show()"
   ]
  },
  {
   "cell_type": "markdown",
   "metadata": {},
   "source": [
    "## Creating the DBN and adding layers\n",
    "We will now instanciate the multimodal DBN object. Only the number of modalities is needed.\n",
    "Then, we add layers to the DBN, modality-wise. It is important to note that the layers have to be added in order and have a different name inside the same modality.\n",
    "After, we initialise layers with the saved parameters. In this demo, they are all provided but a fresh training does not need any call of initialisation function.\n",
    "Finally, we move the network to a device. See pytorch CUDA semantics (https://pytorch.org/docs/stable/notes/cuda.html) for more info."
   ]
  },
  {
   "cell_type": "code",
   "execution_count": 5,
   "metadata": {},
   "outputs": [],
   "source": [
    "dbn = DBN.multimod_dbn(number_of_modalities=2)\n",
    "\n",
    "dbn.add_layer(name='rbm_img_0', type_of_layer='convolutional', modality =0, gaussian_units = True, visible_units = [1,28,28],  filters_properties = {'f_number':32, 'f_height':3,'f_width':3,'stride':1})\n",
    "dbn.add_layer(name='rbm_img_1', type_of_layer='convolutional', modality =0, gaussian_units = True, visible_units = [32,26,26], filters_properties = {'f_number':32, 'f_height':2,'f_width':2,'stride':2})\n",
    "dbn.add_layer(name='rbm_img_2', type_of_layer='convolutional', modality =0, gaussian_units = True, visible_units = [32,13,13], filters_properties = {'f_number':64, 'f_height':4,'f_width':4,'stride':1})\n",
    "dbn.add_layer(name='rbm_img_3', type_of_layer='convolutional', modality =0, gaussian_units = True, visible_units = [64,10,10], filters_properties = {'f_number':64, 'f_height':2,'f_width':2,'stride':2})\n",
    "\n",
    "dbn.add_layer(name='rbm_tgt_0', type_of_layer='convolutional', modality =1, gaussian_units = False, visible_units = [1,10,1], filters_properties = {'f_number':16, 'f_height':4,'f_width':1,'stride':1})\n",
    "dbn.add_layer(name='rbm_tgt_1', type_of_layer='convolutional', modality =1, gaussian_units = True, visible_units = [16,7,1],  filters_properties = {'f_number':32, 'f_height':3,'f_width':1,'stride':1})\n",
    "\n",
    "dbn.add_layer(name='joint', type_of_layer='joint_convolutional', gaussian_units = [True,True], visible_units = [[64,5,5],[32,5,1]], \n",
    "              filters_properties = [{'f_number':64, 'f_height':5,'f_width':5,'stride':1},{'f_number':64, 'f_height':5,'f_width':1,'stride':1}])\n",
    "\n",
    "dbn.initialise_layer('rbm_img_0', './saves_mnist_demo/rbm0_img_3x3x1x32', modality = '0')\n",
    "dbn.initialise_layer('rbm_img_1', './saves_mnist_demo/rbm1_img_2x2x2x32', modality = '0')\n",
    "dbn.initialise_layer('rbm_img_2', './saves_mnist_demo/rbm2_img_4x4x1x64', modality = '0')\n",
    "dbn.initialise_layer('rbm_img_3', './saves_mnist_demo/rbm3_img_2x2x2x64', modality = '0')\n",
    "dbn.initialise_layer('rbm_tgt_0', './saves_mnist_demo/rbm0_tgt_4x1x1x16', modality = '1')\n",
    "dbn.initialise_layer('rbm_tgt_1', './saves_mnist_demo/rbm1_tgt_3x1x1x32', modality = '1')\n",
    "dbn.initialise_layer('joint', './saves_mnist_demo/joint')\n",
    "\n",
    "device =1\n",
    "dbn.move_network_to_device(device)"
   ]
  },
  {
   "cell_type": "markdown",
   "metadata": {},
   "source": [
    "## Training the network\n",
    "Now is the time to train the network. The following block shows how to train the network in a greedy, layer-wise manner.\n",
    "Note that training the joint layer requires the two modalities already trained."
   ]
  },
  {
   "cell_type": "raw",
   "metadata": {},
   "source": [
    "lr = 1e-6\n",
    "\n",
    "dbn.train_layer(layer_name='rbm_img_0', dataloader=data_loader, data_names=['image', 'target'], run_record = False, save_path='./saves_mnist_demo/rbm0_img_3x3x1x32', \n",
    "                epochs=10, CD_k=10, learning_rate=lr, momentum=0.9, weight_decay=lr, modality = 0)\n",
    "dbn.train_layer(layer_name='rbm_img_1', dataloader=data_loader, data_names=['image', 'target'], run_record = False, save_path='./saves_mnist_demo/rbm1_img_2x2x2x32', \n",
    "                epochs=10, CD_k=1, learning_rate=lr, momentum=0.9, weight_decay=lr, modality = 0)\n",
    "dbn.train_layer(layer_name='rbm_img_2', dataloader=data_loader, data_names=['image', 'target'], run_record = False, save_path='./saves_mnist_demo/rbm_img_2', \n",
    "                epochs=50, CD_k=1, learning_rate=lr, momentum=0.9, weight_decay=lr, modality = 0)\n",
    "dbn.train_layer(layer_name='rbm_img_3', dataloader=data_loader, data_names=['image', 'target'], run_record = False, save_path='./saves_mnist_demo/rbm_img_3', \n",
    "                epochs=50, CD_k=1, learning_rate=lr, momentum=0.9, weight_decay=lr, modality = 0)\n",
    "dbn.train_layer(layer_name='rbm_tgt_0', dataloader=data_loader, data_names=['image', 'target'], run_record = False, save_path='./saves_mnist_demo/rbm0_tgt_4x1x1x16', \n",
    "                epochs=50, CD_k=1, learning_rate=lr, momentum=0.9, weight_decay=lr, modality = 1)\n",
    "dbn.train_layer(layer_name='rbm_tgt_1', dataloader=data_loader, data_names=['image', 'target'], run_record = False, save_path='./saves_mnist_demo/rbm1_tgt_3x1x1x32', \n",
    "                epochs=10, CD_k=10, learning_rate=lr, momentum=0.9, weight_decay=lr, modality = 1)\n",
    "dbn.train_layer(layer_name='joint', dataloader=data_loader, data_names=['image', 'target'], run_record = False, save_path='./saves_mnist_demo/joint', \n",
    "                epochs=10, CD_k=10, learning_rate=lr, momentum=0.9, weight_decay=lr)\n"
   ]
  },
  {
   "cell_type": "markdown",
   "metadata": {},
   "source": [
    "## Observing the inference result\n",
    "Calling the network_inference method to return a list containing the inferred modalities. They can now be easily displayed."
   ]
  },
  {
   "cell_type": "code",
   "execution_count": 21,
   "metadata": {},
   "outputs": [],
   "source": [
    "inferred_data = dbn.network_inference([img.cuda(device).float(),tgt.cuda(device).float()])"
   ]
  }
 ],
 "metadata": {
  "kernelspec": {
   "display_name": "Python 3",
   "language": "python",
   "name": "python3"
  },
  "language_info": {
   "codemirror_mode": {
    "name": "ipython",
    "version": 3
   },
   "file_extension": ".py",
   "mimetype": "text/x-python",
   "name": "python",
   "nbconvert_exporter": "python",
   "pygments_lexer": "ipython3",
   "version": "3.6.8"
  }
 },
 "nbformat": 4,
 "nbformat_minor": 4
}
