{
 "cells": [
  {
   "cell_type": "markdown",
   "metadata": {},
   "source": [
    "## Training the generative model supervisedly\n",
    "This is the jupyter notebook to train the decoding part of the network, in an supervised manner."
   ]
  },
  {
   "cell_type": "code",
   "execution_count": 1,
   "metadata": {},
   "outputs": [],
   "source": [
    "import IPython\n",
    "import custom_mnist_dataset\n",
    "from torchvision import transforms\n",
    "import matplotlib.pyplot as plt\n",
    "import numpy as np\n",
    "import matplotlib.animation as animation\n",
    "from IPython.display import HTML\n",
    "import os\n",
    "os.environ['CUDA_LAUNCH_BLOCKING'] = \"1\"\n",
    "\n",
    "import torch\n",
    "import torch.nn as nn\n",
    "import torch.optim as optim\n",
    "import time\n",
    "import torch.nn.functional as F\n",
    "\n",
    "import torchvision.utils as vutils\n",
    "import cv2\n"
   ]
  },
  {
   "cell_type": "markdown",
   "metadata": {},
   "source": [
    "## Loading the training data and displaying it\n",
    "We use a custom mnist dataset function to integrate the one-hot encoding to it, along with the corrupt() function to do the supervised fine-tuning."
   ]
  },
  {
   "cell_type": "code",
   "execution_count": 2,
   "metadata": {},
   "outputs": [],
   "source": [
    "batch_size = 32\n",
    "mnist_data = custom_mnist_dataset.MNIST('/home/emmv1d18/Work/Databases', \n",
    "                                        train=True,\n",
    "                                        transform=transforms.Compose([\n",
    "                                            transforms.ToTensor(),\n",
    "                                            transforms.Normalize(mean=[0.1307], std=[0.3081])]),\n",
    "                                        target_transform=custom_mnist_dataset.to_one_hot(), \n",
    "                                        tuple_transform = custom_mnist_dataset.corrupt(),\n",
    "                                        download=True)\n",
    "data_loader = torch.utils.data.DataLoader(mnist_data,\n",
    "                                          batch_size=batch_size,\n",
    "                                          shuffle=True)"
   ]
  },
  {
   "cell_type": "markdown",
   "metadata": {},
   "source": [
    "## Defining the different parts of the network\n",
    "In the encoding part of the network, the activation function is sigmoid. The output of each layer has to be normalised to have 0 mean and one variance.\n",
    "In the decoding part of the network, the activation function is linked to the visible states of the corresponding RBMs. If their state is Binary, the activation function is sigmoid. Else, no activation function is used.\n",
    "One must note that the design of the encoders must be the same as the ones defined by the DBN."
   ]
  },
  {
   "cell_type": "code",
   "execution_count": 3,
   "metadata": {},
   "outputs": [],
   "source": [
    "def res(t):\n",
    "    return (t-t.mean())/t.std()"
   ]
  },
  {
   "cell_type": "code",
   "execution_count": 4,
   "metadata": {},
   "outputs": [],
   "source": [
    "class dbn_image(nn.Module):\n",
    "    def __init__(self):\n",
    "        super(dbn_image, self).__init__()\n",
    "        self.conv0 = nn.Conv2d(1 , 32, 3, stride = 1)\n",
    "        self.conv1 = nn.Conv2d(32, 32, 2, stride = 2)\n",
    "        self.conv2 = nn.Conv2d(32, 64, 4, stride = 1)\n",
    "        self.conv3 = nn.Conv2d(64, 64, 2, stride = 2)\n",
    "        \n",
    "    def forward(self, input):        \n",
    "        batch_size = input.size()[0]\n",
    "        conv0 = res(torch.sigmoid(self.conv0(input)))\n",
    "        conv1 = res(torch.sigmoid(self.conv1(conv0)))\n",
    "        conv2 = res(torch.sigmoid(self.conv2(conv1)))\n",
    "        conv3 = torch.sigmoid(self.conv3(conv2))\n",
    "        return conv3\n",
    "    "
   ]
  },
  {
   "cell_type": "code",
   "execution_count": 5,
   "metadata": {},
   "outputs": [],
   "source": [
    "class dbn_target(nn.Module):\n",
    "    def __init__(self):\n",
    "        super(dbn_target, self).__init__()\n",
    "        self.conv0 = nn.Conv2d(1 , 16, (4,1), stride = 1)\n",
    "        self.conv1 = nn.Conv2d(16, 32, (3,1), stride = 1)\n",
    "    \n",
    "    def forward(self, input):      \n",
    "        conv0 = res(torch.sigmoid(self.conv0(input)))\n",
    "        conv1 = res(torch.sigmoid(self.conv1(conv0)))\n",
    "        return conv1\n",
    "  "
   ]
  },
  {
   "cell_type": "code",
   "execution_count": 6,
   "metadata": {},
   "outputs": [],
   "source": [
    "class joint(nn.Module):\n",
    "    def __init__(self):\n",
    "        super(joint, self).__init__()\n",
    "        self.conv0 = nn.Conv2d(64,64,5)\n",
    "        self.conv1 = nn.Conv2d(32,64,(5,1), bias =False)\n",
    "        \n",
    "    def forward(self, img, tgt):\n",
    "        h0 = self.conv0(img)\n",
    "        h1 = self.conv1(tgt)\n",
    "        return torch.sigmoid(h0+h1)\n",
    "    "
   ]
  },
  {
   "cell_type": "code",
   "execution_count": 7,
   "metadata": {},
   "outputs": [],
   "source": [
    "class gen_image(nn.Module):\n",
    "    def __init__(self):\n",
    "        super(gen_image, self).__init__()\n",
    "        self.conv0 = nn.ConvTranspose2d(64, 64, 5, stride = 1) \n",
    "        self.conv1 = nn.ConvTranspose2d(64, 64, 2, stride = 2) \n",
    "        self.conv2 = nn.ConvTranspose2d(64, 32, 4, stride = 1)\n",
    "        self.conv3 = nn.ConvTranspose2d(32, 32, 2, stride = 2) \n",
    "        self.conv4 = nn.ConvTranspose2d(32, 1 , 3, stride = 1)\n",
    "        \n",
    "    def forward(self, input):        \n",
    "        conv0 = res(self.conv0(input))\n",
    "        conv1 = res(self.conv1(conv0))\n",
    "        conv2 = res(self.conv2(conv1))\n",
    "        conv3 = res(self.conv3(conv2))\n",
    "        conv4 = res(self.conv4(conv3))\n",
    "        return conv4"
   ]
  },
  {
   "cell_type": "code",
   "execution_count": 8,
   "metadata": {},
   "outputs": [],
   "source": [
    "class gen_target(nn.Module):\n",
    "    def __init__(self):\n",
    "        super(gen_target, self).__init__()\n",
    "        self.conv0 = nn.ConvTranspose2d(64, 32, (5,1), stride = 1) \n",
    "        self.conv1 = nn.ConvTranspose2d(32, 16, (3,1), stride = 1) \n",
    "        self.conv2 = nn.ConvTranspose2d(16, 1 , (4,1), stride = 1)\n",
    "        \n",
    "    def forward(self, input):        \n",
    "        conv0 = res(self.conv0(input))\n",
    "        conv1 = res(self.conv1(conv0))\n",
    "        conv2 = torch.sigmoid(self.conv2(conv1))\n",
    "        return conv2"
   ]
  },
  {
   "cell_type": "markdown",
   "metadata": {},
   "source": [
    "## Initialising the parts of the network\n",
    "Here, we retrieve the parameters of each layer from the saved RBM's parameters."
   ]
  },
  {
   "cell_type": "code",
   "execution_count": 9,
   "metadata": {},
   "outputs": [],
   "source": [
    "def initialise_img_dbn(dbn):\n",
    "    rbm_0 = torch.load('./saves_mnist_demo/rbm0_img_3x3x1x32')\n",
    "    rbm_1 = torch.load('./saves_mnist_demo/rbm1_img_2x2x2x32')\n",
    "    rbm_2 = torch.load('./saves_mnist_demo/rbm2_img_4x4x1x64')\n",
    "    rbm_3 = torch.load('./saves_mnist_demo/rbm3_img_2x2x2x64')\n",
    "    dbn.state_dict()['conv0.weight'].data.copy_(rbm_0['weights'])\n",
    "    dbn.state_dict()['conv0.bias'].data.copy_(rbm_0['h_bias'])\n",
    "    dbn.state_dict()['conv1.weight'].data.copy_(rbm_1['weights'])\n",
    "    dbn.state_dict()['conv1.bias'].data.copy_(rbm_1['h_bias'])\n",
    "    dbn.state_dict()['conv2.weight'].data.copy_(rbm_2['weights'])\n",
    "    dbn.state_dict()['conv2.bias'].data.copy_(rbm_2['h_bias'])\n",
    "    dbn.state_dict()['conv3.weight'].data.copy_(rbm_3['weights'])\n",
    "    dbn.state_dict()['conv3.bias'].data.copy_(rbm_3['h_bias'])"
   ]
  },
  {
   "cell_type": "code",
   "execution_count": 10,
   "metadata": {},
   "outputs": [],
   "source": [
    "def initialise_tgt_dbn(dbn):\n",
    "    rbm_0 = torch.load('./saves_mnist_demo/rbm0_tgt_4x1x1x16')\n",
    "    rbm_1 = torch.load('./saves_mnist_demo/rbm1_tgt_3x1x1x32')\n",
    "    dbn.state_dict()['conv0.weight'].data.copy_(rbm_0['weights'])\n",
    "    dbn.state_dict()['conv0.bias'].data.copy_(rbm_0['h_bias'])\n",
    "    dbn.state_dict()['conv1.weight'].data.copy_(rbm_1['weights'])\n",
    "    dbn.state_dict()['conv1.bias'].data.copy_(rbm_1['h_bias'])"
   ]
  },
  {
   "cell_type": "code",
   "execution_count": 11,
   "metadata": {},
   "outputs": [],
   "source": [
    "def initialise_joint(joint):\n",
    "    model = torch.load('./saves_mnist_demo/joint')\n",
    "    joint.state_dict()['conv0.weight'].data.copy_(model['0']['weights'])\n",
    "    joint.state_dict()['conv0.bias'].data.copy_(model['h_bias'])\n",
    "    joint.state_dict()['conv1.weight'].data.copy_(model['1']['weights'])\n"
   ]
  },
  {
   "cell_type": "code",
   "execution_count": 12,
   "metadata": {},
   "outputs": [],
   "source": [
    "def initialise_img_gen(dbn):\n",
    "    rbm_0 = torch.load('./saves_mnist_demo/rbm0_img_3x3x1x32')\n",
    "    rbm_1 = torch.load('./saves_mnist_demo/rbm1_img_2x2x2x32')\n",
    "    rbm_2 = torch.load('./saves_mnist_demo/rbm2_img_4x4x1x64')\n",
    "    rbm_3 = torch.load('./saves_mnist_demo/rbm3_img_2x2x2x64')\n",
    "    model = torch.load('./saves_mnist_demo/joint')\n",
    "    dbn.state_dict()['conv0.weight'].data.copy_(model['0']['weights'])\n",
    "    dbn.state_dict()['conv0.bias'].data.copy_(model['0']['v_bias'])\n",
    "    dbn.state_dict()['conv1.weight'].data.copy_(rbm_3['weights'])\n",
    "    dbn.state_dict()['conv1.bias'].data.copy_(rbm_3['v_bias'])\n",
    "    dbn.state_dict()['conv2.weight'].data.copy_(rbm_2['weights'])\n",
    "    dbn.state_dict()['conv2.bias'].data.copy_(rbm_2['v_bias'])\n",
    "    dbn.state_dict()['conv3.weight'].data.copy_(rbm_1['weights'])\n",
    "    dbn.state_dict()['conv3.bias'].data.copy_(rbm_1['v_bias'])\n",
    "    dbn.state_dict()['conv4.weight'].data.copy_(rbm_0['weights'])\n",
    "    dbn.state_dict()['conv4.bias'].data.copy_(rbm_0['v_bias'])\n"
   ]
  },
  {
   "cell_type": "code",
   "execution_count": 13,
   "metadata": {},
   "outputs": [],
   "source": [
    "def initialise_tgt_gen(dbn):\n",
    "    rbm_0 = torch.load('./saves_mnist_demo/rbm0_tgt_4x1x1x16')\n",
    "    rbm_1 = torch.load('./saves_mnist_demo/rbm1_tgt_3x1x1x32')\n",
    "    model = torch.load('./saves_mnist_demo/joint')\n",
    "    dbn.state_dict()['conv0.weight'].data.copy_(model['1']['weights'])\n",
    "    dbn.state_dict()['conv0.bias'].data.copy_(model['1']['v_bias'])\n",
    "    dbn.state_dict()['conv1.weight'].data.copy_(rbm_1['weights'])\n",
    "    dbn.state_dict()['conv1.bias'].data.copy_(rbm_1['v_bias'])\n",
    "    dbn.state_dict()['conv2.weight'].data.copy_(rbm_0['weights'])\n",
    "    dbn.state_dict()['conv2.bias'].data.copy_(rbm_0['v_bias'])"
   ]
  },
  {
   "cell_type": "markdown",
   "metadata": {},
   "source": [
    "## Instanciation and initialisation of the different parts of the network\n",
    "If the encoder has just been trained unsupervisedly, the previously defined initialisation functions have to be called now. \n",
    "Otherwise, one can load the parameters of each layer from a saved .pth file."
   ]
  },
  {
   "cell_type": "code",
   "execution_count": 34,
   "metadata": {},
   "outputs": [
    {
     "data": {
      "text/plain": [
       "gen_target(\n",
       "  (conv0): ConvTranspose2d(64, 32, kernel_size=(5, 1), stride=(1, 1))\n",
       "  (conv1): ConvTranspose2d(32, 16, kernel_size=(3, 1), stride=(1, 1))\n",
       "  (conv2): ConvTranspose2d(16, 1, kernel_size=(4, 1), stride=(1, 1))\n",
       ")"
      ]
     },
     "execution_count": 34,
     "metadata": {},
     "output_type": "execute_result"
    }
   ],
   "source": [
    "img_modality = dbn_image()\n",
    "tgt_modality = dbn_target()\n",
    "joint_layer  = joint()\n",
    "img_generator = gen_image()\n",
    "tgt_generator = gen_target()\n",
    "\n",
    "'''\n",
    "initialise_img_dbn(img_modality)\n",
    "initialise_tgt_dbn(tgt_modality)\n",
    "initialise_joint(joint_layer)\n",
    "initialise_img_gen(img_generator)\n",
    "initialise_tgt_gen(tgt_generator)\n",
    "'''\n",
    "\n",
    "img_modality.load_state_dict(torch.load('./saves_mnist_demo/image_modality.pth'))\n",
    "tgt_modality.load_state_dict(torch.load('./saves_mnist_demo/target_modality.pth'))\n",
    "joint_layer.load_state_dict(torch.load('./saves_mnist_demo/joint_layer.pth'))\n",
    "img_generator.load_state_dict(torch.load('./saves_mnist_demo/image_generator.pth'))\n",
    "tgt_generator.load_state_dict(torch.load('./saves_mnist_demo/target_generator.pth'))\n",
    "\n",
    "# The different networks are then sorted between the different available GPUs.\n",
    "img_modality.to(0)\n",
    "tgt_modality.to(1)\n",
    "joint_layer.to('cpu')\n",
    "img_generator.to(0)\n",
    "tgt_generator.to(1)"
   ]
  },
  {
   "cell_type": "markdown",
   "metadata": {},
   "source": [
    "## Training of the network\n",
    "Uncomment the following cell to perform the training of the whole network."
   ]
  },
  {
   "cell_type": "raw",
   "metadata": {},
   "source": [
    "# Losses definition\n",
    "L2_loss   = nn.MSELoss()\n",
    "KL_loss = nn.KLDivLoss()\n",
    "# Training parameters\n",
    "n_epochs = 100\n",
    "lr = 1e-4\n",
    "beta = 0.5\n",
    "# Optimizers definition\n",
    "optimizer_img = optim.Adam(img_generator.parameters(), lr=lr, betas=(beta, 0.999))\n",
    "optimizer_tgt = optim.Adam(tgt_generator.parameters(), lr=lr, betas=(beta, 0.999))\n",
    "optimizer_h   = optim.Adam(joint_layer.parameters(),   lr=lr, betas=(beta, 0.999))\n",
    "optimizer_img_ = optim.Adam(img_modality.parameters(), lr=lr, betas=(beta, 0.999))\n",
    "optimizer_tgt_ = optim.Adam(tgt_modality.parameters(), lr=lr, betas=(beta, 0.999))\n",
    "for epoch in range(n_epochs):\n",
    "    tic = time.time()\n",
    "    i =0\n",
    "    epoch_error_img = 0\n",
    "    epoch_error_tgt = 0\n",
    "    for data in data_loader:\n",
    "        img_generator.zero_grad()\n",
    "        img = data['image'].cuda(device = 0).float()\n",
    "        img_ref = data['image_ref'].cuda(device = 0).float()\n",
    "        tgt = data['target'].cuda(device = 1).float()\n",
    "        tgt_ref = data['target_ref'].cuda(device = 1).float()\n",
    "        h = joint_layer(img_modality(img).detach().cpu(), tgt_modality(tgt).detach().cpu())\n",
    "        x = img_generator(h.cuda(device = 0))\n",
    "        y = tgt_generator(h.cuda(device = 1))\n",
    "        error_img = L2_loss(x, img_ref)\n",
    "        error_img.backward(retain_graph=True)\n",
    "        optimizer_img.step()\n",
    "        epoch_error_img += error_img.detach().cpu() \n",
    "        error_tgt = KL_loss(y.view(-1,10), tgt_ref.view(-1,10))\n",
    "        error_tgt.backward()\n",
    "        optimizer_tgt.step()\n",
    "        epoch_error_tgt += error_tgt.detach().cpu() \n",
    "        optimizer_h.step()\n",
    "        optimizer_img_.step()\n",
    "        optimizer_tgt_.step()\n",
    "        i+=1\n",
    "    tac = time.time()\n",
    "    epoch_error_tgt /= i\n",
    "    epoch_error_img /= i\n",
    "    print('----------------------------')\n",
    "    print('Time : %.2f, Epoch : %s, Error Image : %.4f, Error Target : %.4f' % (tac-tic, epoch, epoch_error_img, epoch_error_tgt))\n",
    "torch.save(img_generator.state_dict(), './new_saves/image_generator.pth')\n",
    "torch.save(tgt_generator.state_dict(), './new_saves/target_generator.pth')\n",
    "torch.save(joint_layer.state_dict(), './new_saves/joint_layer.pth')\n",
    "torch.save(img_modality.state_dict(), './new_saves/image_modality.pth')\n",
    "torch.save(tgt_modality.state_dict(), './new_saves/target_modality.pth')"
   ]
  },
  {
   "cell_type": "markdown",
   "metadata": {},
   "source": [
    "## Random digits generation\n",
    "Once the network is optimised, it can be used to generate random numbers.\n",
    "Given a one-hot vector encoding the number to be generated on the target modality and a zero-input on the image modality.\n",
    "In this demo, the encoding on a joint-layer of such an input is unique. To one one-hot encoding corresponds one encoding on h. It is then not sufficient to generate different digits. The trick is to add noise to the encoding, as done hereafter."
   ]
  },
  {
   "cell_type": "code",
   "execution_count": 59,
   "metadata": {},
   "outputs": [],
   "source": [
    "data =next(iter(data_loader))\n",
    "tgt = data['target_ref']\n",
    "img = torch.zeros((batch_size,1,28,28)).cuda(device=0)\n",
    "h = joint_layer(img_modality(img).detach().cpu(), tgt_modality(tgt.cuda(device =1)).detach().cpu())\n",
    "noise = torch.rand((batch_size,64,1,1))*0.1\n",
    "x_n = img_generator((h+noise).cuda(device = 0))\n",
    "x = img_generator((h).cuda(device = 0))"
   ]
  },
  {
   "cell_type": "code",
   "execution_count": 60,
   "metadata": {},
   "outputs": [],
   "source": [
    "h_ = h.detach().cpu().view(batch_size,8,8)\n",
    "h_n = (h+noise).detach().cpu().view(batch_size,8,8)\n",
    "x_  = x.detach().cpu().view(batch_size,1,28,28)\n",
    "x_n_ = x_n.detach().cpu().view(batch_size,1,28,28)\n"
   ]
  },
  {
   "cell_type": "code",
   "execution_count": 61,
   "metadata": {},
   "outputs": [
    {
     "data": {
      "image/png": "[encoded data removed]",
      "text/plain": [
       "<Figure size 576x576 with 8 Axes>"
      ]
     },
     "metadata": {
      "needs_background": "light"
     },
     "output_type": "display_data"
    },
    {
     "data": {
      "image/png": "[encoded data removed]",
      "text/plain": [
       "<Figure size 1152x1152 with 8 Axes>"
      ]
     },
     "metadata": {
      "needs_background": "light"
     },
     "output_type": "display_data"
    },
    {
     "data": {
      "image/png": "[encoded data removed]",
      "text/plain": [
       "<Figure size 1152x1152 with 8 Axes>"
      ]
     },
     "metadata": {
      "needs_background": "light"
     },
     "output_type": "display_data"
    }
   ],
   "source": [
    "columns = 8\n",
    "rows = 1\n",
    "fig=plt.figure(figsize=(8, 8))\n",
    "for i in range(1, (columns*rows)+1 ):\n",
    "    fig.add_subplot(rows, columns, i)\n",
    "    plt.imshow(tgt[i][0])\n",
    "plt.show()\n",
    "f_s = 16\n",
    "fig=plt.figure(figsize=(f_s, f_s))\n",
    "for i in range(1, (columns*rows)+1 ):\n",
    "    fig.add_subplot(rows, columns, i)\n",
    "    plt.imshow(x_[i][0])\n",
    "plt.show()\n",
    "\n",
    "fig=plt.figure(figsize=(f_s, f_s))\n",
    "for i in range(1, (columns*rows)+1 ):\n",
    "    fig.add_subplot(rows, columns, i)\n",
    "    plt.imshow(x_n_[i][0])\n",
    "plt.show()"
   ]
  },
  {
   "cell_type": "code",
   "execution_count": null,
   "metadata": {},
   "outputs": [],
   "source": []
  }
 ],
 "metadata": {
  "kernelspec": {
   "display_name": "Python 3",
   "language": "python",
   "name": "python3"
  },
  "language_info": {
   "codemirror_mode": {
    "name": "ipython",
    "version": 3
   },
   "file_extension": ".py",
   "mimetype": "text/x-python",
   "name": "python",
   "nbconvert_exporter": "python",
   "pygments_lexer": "ipython3",
   "version": "3.6.8"
  }
 },
 "nbformat": 4,
 "nbformat_minor": 4
}
